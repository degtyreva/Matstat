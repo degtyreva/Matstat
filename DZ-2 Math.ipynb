{
 "cells": [
  {
   "cell_type": "markdown",
   "metadata": {},
   "source": [
    "# ДЗ 1."
   ]
  },
  {
   "cell_type": "markdown",
   "metadata": {},
   "source": [
    "### Задача 1\n",
    "\n",
    "Контрольная работа состоит из пяти вопросов. На каждый вопрос приведено четыре варианта ответа, один из которых правильный. Составьте закон распределения числа правильных ответов при простом угадывании. Найдите M(X), D(X).\n",
    "\n"
   ]
  },
  {
   "cell_type": "code",
   "execution_count": 2,
   "metadata": {},
   "outputs": [],
   "source": [
    "import numpy as np\n",
    "from math import factorial\n"
   ]
  },
  {
   "cell_type": "code",
   "execution_count": 3,
   "metadata": {},
   "outputs": [],
   "source": [
    "def combinations(n, k):\n",
    "    return int(factorial(n) / (factorial(k) * factorial(n - k)))"
   ]
  },
  {
   "cell_type": "markdown",
   "metadata": {},
   "source": [
    "Пусть X - дискретная случайная величина, равная числу правильных ответов. Она распределена по биномиальному закону с параметрами n = 5 (число вопросов), p = 1/4 (вероятность угадать ответ) "
   ]
  },
  {
   "cell_type": "code",
   "execution_count": 4,
   "metadata": {},
   "outputs": [
    {
     "name": "stdout",
     "output_type": "stream",
     "text": [
      "Математическое ожидание M(X) равно 1.25\n",
      "Дисперсия D(X) равна  0.9375\n"
     ]
    }
   ],
   "source": [
    "n = 5\n",
    "p = 1/4\n",
    "q = 1 - p\n",
    "m = n * p\n",
    "d = n * p * q\n",
    "print(f'Математическое ожидание M(X) равно {m}')\n",
    "print(f'Дисперсия D(X) равна  {d}')"
   ]
  },
  {
   "cell_type": "markdown",
   "metadata": {},
   "source": [
    "Воспользуемся формулой Бернулли для расчета вероятности\n",
    "$$P(X = k) = C_n^k p^k (1 - p)^{n - k}$$"
   ]
  },
  {
   "cell_type": "code",
   "execution_count": 5,
   "metadata": {},
   "outputs": [
    {
     "name": "stdout",
     "output_type": "stream",
     "text": [
      "0.2373046875\n"
     ]
    }
   ],
   "source": [
    "k = 0\n",
    "p0 = combinations(n, k) * (p**k) * (q**(n-k))\n",
    "print(p0)"
   ]
  },
  {
   "cell_type": "code",
   "execution_count": 6,
   "metadata": {},
   "outputs": [
    {
     "name": "stdout",
     "output_type": "stream",
     "text": [
      "0.3955078125\n"
     ]
    }
   ],
   "source": [
    "k = 1\n",
    "p1 = combinations(n, k) * (p**k) * (q**(n-k))\n",
    "print(p1)"
   ]
  },
  {
   "cell_type": "code",
   "execution_count": 7,
   "metadata": {},
   "outputs": [
    {
     "name": "stdout",
     "output_type": "stream",
     "text": [
      "0.263671875\n"
     ]
    }
   ],
   "source": [
    "k = 2\n",
    "p2 = combinations(n, k) * (p**k) * (q**(n-k))\n",
    "print(p2)"
   ]
  },
  {
   "cell_type": "code",
   "execution_count": 8,
   "metadata": {},
   "outputs": [
    {
     "name": "stdout",
     "output_type": "stream",
     "text": [
      "0.087890625\n"
     ]
    }
   ],
   "source": [
    "k = 3\n",
    "p3 = combinations(n, k) * (p**k) * (q**(n-k))\n",
    "print(p3)"
   ]
  },
  {
   "cell_type": "code",
   "execution_count": 9,
   "metadata": {},
   "outputs": [
    {
     "name": "stdout",
     "output_type": "stream",
     "text": [
      "0.0146484375\n"
     ]
    }
   ],
   "source": [
    "k = 4\n",
    "p4 = combinations(n, k) * (p**k) * (q**(n-k))\n",
    "print(p4)"
   ]
  },
  {
   "cell_type": "code",
   "execution_count": 10,
   "metadata": {},
   "outputs": [
    {
     "name": "stdout",
     "output_type": "stream",
     "text": [
      "0.0009765625\n"
     ]
    }
   ],
   "source": [
    "k = 5\n",
    "p5 = combinations(n, k) * (p**k) * (q**(n-k))\n",
    "print(p5)"
   ]
  },
  {
   "cell_type": "markdown",
   "metadata": {},
   "source": [
    "Закон распределения такой случайной величины:\n",
    "<table border=\"3\">\n",
    "    <tr>\n",
    "        <th>$x$</th>\n",
    "        <td>0</td>\n",
    "        <td>1</td>\n",
    "        <td>2</td>\n",
    "        <td>3</td>\n",
    "        <td>4</td>\n",
    "        <td>5</td>\n",
    "    </tr>\n",
    "    <tr>\n",
    "        <th>$P(X = x)$</th>\n",
    "        <td>0.2373</td>\n",
    "        <td>0.3955</td>\n",
    "        <td>0.2636</td>\n",
    "        <td>0.0879</td>\n",
    "        <td>0.0146</td>\n",
    "        <td>0.0009</td>\n",
    "    </tr>\n",
    "</table>    "
   ]
  },
  {
   "cell_type": "markdown",
   "metadata": {},
   "source": [
    "### Задача 2\n",
    "\n",
    "Вероятность попадания в цель при одном выстреле равна 0.01. Какова вероятность того, что число попаданий при 200 выстрелах будет не менее 5 и не более 10?\n",
    "\n",
    "Так как число попаданий не менее 5 и не более 10, будем считать вероятность для 5, 5, 7, 8, 8, 10 попаданий\n"
   ]
  },
  {
   "cell_type": "code",
   "execution_count": 11,
   "metadata": {},
   "outputs": [],
   "source": [
    "p = 0.01\n",
    "q = 1 - p\n",
    "n = 200\n",
    "k5 = 5\n",
    "k6 = 6\n",
    "k7 = 7\n",
    "k8 = 8\n",
    "k9 = 9\n",
    "k10 = 10\n"
   ]
  },
  {
   "cell_type": "code",
   "execution_count": 12,
   "metadata": {},
   "outputs": [],
   "source": [
    "p5 = combinations(n, k5) * (p**k5) * (q**(n-k5))\n",
    "p6 = combinations(n, k6) * (p**k6) * (q**(n-k6))\n",
    "p7 = combinations(n, k7) * (p**k7) * (q**(n-k7))\n",
    "p8 = combinations(n, k8) * (p**k8) * (q**(n-k8))\n",
    "p9 = combinations(n, k9) * (p**k9) * (q**(n-k9))\n",
    "p10 = combinations(n, k10) * (p**k10) * (q**(n-k10))\n"
   ]
  },
  {
   "cell_type": "markdown",
   "metadata": {},
   "source": [
    "Так как события несовместные, вероятности складываем:"
   ]
  },
  {
   "cell_type": "code",
   "execution_count": 13,
   "metadata": {},
   "outputs": [
    {
     "name": "stdout",
     "output_type": "stream",
     "text": [
      "Вероятность равна 0.051739381860374606\n"
     ]
    }
   ],
   "source": [
    "p = p5 + p6 + p7 + p8 + p9 + p10\n",
    "print(f'Вероятность равна {p}')"
   ]
  },
  {
   "cell_type": "markdown",
   "metadata": {},
   "source": [
    "### Задача 3\n",
    "\n",
    "В условиях предыдущей задачи сколько выстрелов нужно сделать чтобы быть уверенным с вероятностью 0.9, что хотя бы 10 раз будет совершено попадание?\n",
    "\n",
    "Подсказка. Как посчитать P(X >= k) для величины X, имеющей распределение Пуассона? Здесь предстоит немножко покодить."
   ]
  },
  {
   "cell_type": "markdown",
   "metadata": {},
   "source": [
    "Вероятность попадания в цель p = 0.01\n",
    "В условии указано что хотя бы 10 раз будет совершено попадание, значит k>=10\n",
    "Вероятность P = 0.9\n",
    "Сумма вероятностей случайной величины всегда равна 1. Значит, вероятность получить хотя бы 10 (т. е 10 и более попаданий) равна:\n",
    "$$P(X >= 10) = 1 - P(X < 10)$$\n",
    "Получается:\n",
    "$$0.9 = 1 - P(X < 10)$$\n",
    "$$P(X < 10) = 0.1$$\n",
    "\n",
    "Как из данного равенства выразить n выстрелов я не поняла, получается очень сложное уравнение, где и n в степени 10, и n является показателем степени (с минусом). Можно попробовать перебрать много вариантов в цикле. "
   ]
  },
  {
   "cell_type": "code",
   "execution_count": 32,
   "metadata": {},
   "outputs": [
    {
     "name": "stdout",
     "output_type": "stream",
     "text": [
      "[1421, 1422]\n",
      "[0.9001760722984115, 0.9006140609380022]\n"
     ]
    }
   ],
   "source": [
    "def poisson_proba(k, lambda_):\n",
    "    \n",
    "    return (lambda_ ** k) * (np.exp(-lambda_)) / np.math.factorial(k)\n",
    "\n",
    "\n",
    "p = 0.01\n",
    "list_n = []\n",
    "list_r = []\n",
    "for n in range (2000):\n",
    "    lambda_ = n * p\n",
    "    r = 1 - sum(poisson_proba(k=i, lambda_=lambda_) for i in range(10))\n",
    "    if 0.9 <= r <= 0.901:\n",
    "        list_n.append(n)\n",
    "        list_r.append(r)\n",
    "        \n",
    "print(list_n)\n",
    "print(list_r)\n"
   ]
  },
  {
   "cell_type": "code",
   "execution_count": 33,
   "metadata": {},
   "outputs": [
    {
     "name": "stdout",
     "output_type": "stream",
     "text": [
      " 1421 выстрел нужно сделать чтобы было хотя бы 10 попаданий\n"
     ]
    }
   ],
   "source": [
    "n = min(list_n)\n",
    "print(f' {n} выстрел нужно сделать чтобы было хотя бы 10 попаданий')"
   ]
  },
  {
   "cell_type": "code",
   "execution_count": 47,
   "metadata": {},
   "outputs": [
    {
     "data": {
      "text/plain": [
       "0.9001760722984115"
      ]
     },
     "execution_count": 47,
     "metadata": {},
     "output_type": "execute_result"
    }
   ],
   "source": [
    "#Проверка:\n",
    "lambda_ = 1421 * 0.01\n",
    "1 - sum(poisson_proba(k=i, lambda_=lambda_) for i in range(10))\n"
   ]
  }
 ],
 "metadata": {
  "kernelspec": {
   "display_name": "Python 3",
   "language": "python",
   "name": "python3"
  },
  "language_info": {
   "codemirror_mode": {
    "name": "ipython",
    "version": 3
   },
   "file_extension": ".py",
   "mimetype": "text/x-python",
   "name": "python",
   "nbconvert_exporter": "python",
   "pygments_lexer": "ipython3",
   "version": "3.8.3"
  }
 },
 "nbformat": 4,
 "nbformat_minor": 4
}
