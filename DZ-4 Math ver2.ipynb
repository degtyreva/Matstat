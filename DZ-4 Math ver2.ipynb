{
 "cells": [
  {
   "cell_type": "markdown",
   "metadata": {},
   "source": [
    "# ДЗ 4."
   ]
  },
  {
   "cell_type": "markdown",
   "metadata": {},
   "source": [
    "### Задача 1\n",
    "\n",
    "Коробки с шоколадом упаковываются автоматически. Их средняя масса равна 1.06 кг. Известно, что 5% коробок имеют массу, меньшую 1 кг. Найдите: а) среднее квадратическое отклонение массы коробки, б) процент коробок, имеющих массу больше 1.1 кг.\n",
    "\n",
    "Подсказка. 1. Можно считать, что распределение массы коробки нормальное. 2. Найдите такое значение scale, для которого значение cdf(x=1, loc=1.06, scale=scale) близко к 0.05. Точности 0.0001 будет достаточно.\n",
    "\n"
   ]
  },
  {
   "cell_type": "markdown",
   "metadata": {},
   "source": [
    "Х - нормально распределенная случайная величина, равная массе коробки с конфетами.\n",
    "\n",
    "mu = 1.06 - мат. ожидание\n",
    "\n",
    "sigma  - среднее квадратичное отклонение\n",
    "$$F(x) = P(X < 1).$$\n",
    "F(x) = 0.05\n",
    "Используем функцию Лапласа\n",
    "\n",
    "Ф((-1.06)/sigma) + 0.5 = 0.05\n",
    "\n",
    "Ф(0.06/sigma) = 0.45\n",
    "\n",
    "0.06/sigma = 1.645\n"
   ]
  },
  {
   "cell_type": "code",
   "execution_count": 26,
   "metadata": {},
   "outputs": [
    {
     "name": "stdout",
     "output_type": "stream",
     "text": [
      "среднее квадратичное отклонение  0.0364741641337386\n"
     ]
    }
   ],
   "source": [
    "sigma = 0.06/1.645\n",
    "print(f'среднее квадратичное отклонение  {sigma}')"
   ]
  },
  {
   "cell_type": "markdown",
   "metadata": {},
   "source": [
    "Вычислим процент коробок, имеющих массу больше 1.1 кг.\n",
    "P(1.1 < X < бесконечность ) = Ф(бесконечность) - Ф((1.1 - 1.06)/sigma) = 0.5 - Ф(1.097) = 0.5 - 0.362 = 0.138\n"
   ]
  },
  {
   "cell_type": "code",
   "execution_count": 27,
   "metadata": {},
   "outputs": [
    {
     "name": "stdout",
     "output_type": "stream",
     "text": [
      "процент коробок, имеющих массу больше 1.1 кг равен 13.8 процентов\n"
     ]
    }
   ],
   "source": [
    "p = (0.5 - 0.362) * 100\n",
    "print(f'процент коробок, имеющих массу больше 1.1 кг равен {p} процентов' )"
   ]
  },
  {
   "cell_type": "markdown",
   "metadata": {},
   "source": [
    "### 2 второй вариант с использованием функции распределения F(x) - cdf"
   ]
  },
  {
   "cell_type": "code",
   "execution_count": 28,
   "metadata": {},
   "outputs": [],
   "source": [
    "from scipy import stats\n",
    "import pandas as pd\n",
    "import numpy as np\n",
    "from matplotlib import pyplot as plt"
   ]
  },
  {
   "cell_type": "code",
   "execution_count": 29,
   "metadata": {},
   "outputs": [
    {
     "name": "stdout",
     "output_type": "stream",
     "text": [
      "Cdf\tScale\n",
      "0.4522 \t 0.5\n",
      "0.4052 \t 0.25\n",
      "0.3156 \t 0.125\n",
      "0.1685 \t 0.0625\n",
      "0.0274 \t 0.0312\n",
      "0.1003 \t 0.0469\n",
      "0.0623 \t 0.0391\n",
      "0.0439 \t 0.0352\n",
      "0.053 \t 0.0371\n",
      "0.0484 \t 0.0361\n",
      "0.0507 \t 0.0366\n",
      "0.0495 \t 0.0364\n",
      "0.0501 \t 0.0365\n",
      "0.0498 \t 0.0364\n",
      "0.05 \t 0.0365\n",
      "Cреднее квадратичное отклонение scale =  0.036468505859375\n"
     ]
    }
   ],
   "source": [
    "mu = 1.06\n",
    "st = 0\n",
    "end = 1\n",
    "p = 0.05\n",
    "er = 0.0001\n",
    "\n",
    "print('Cdf\\tScale')\n",
    "\n",
    "while True:\n",
    "    scale = (st + end) / 2\n",
    "    cdf = stats.norm.cdf(1, loc = mu, scale = scale)\n",
    "    print(round(cdf, 4), '\\t', round(scale, 4))\n",
    "    if cdf <= p - er:\n",
    "        st = scale\n",
    "    elif cdf >= p + er:\n",
    "        end = scale\n",
    "    else:\n",
    "        break\n",
    "\n",
    "print('Cреднее квадратичное отклонение scale = ', scale)"
   ]
  },
  {
   "cell_type": "code",
   "execution_count": 30,
   "metadata": {},
   "outputs": [
    {
     "data": {
      "text/plain": [
       "0.049958594078015874"
      ]
     },
     "execution_count": 30,
     "metadata": {},
     "output_type": "execute_result"
    }
   ],
   "source": [
    "stats.norm.cdf(1, loc = mu, scale = scale)"
   ]
  },
  {
   "cell_type": "code",
   "execution_count": 31,
   "metadata": {},
   "outputs": [
    {
     "name": "stdout",
     "output_type": "stream",
     "text": [
      "Процент коробок, имеющих массу больше 1.1 кг равен 13.63563656878326 процентов\n"
     ]
    }
   ],
   "source": [
    "pr = (1 - stats.norm.cdf(1.1, loc = mu, scale = scale)) * 100\n",
    "print(f'Процент коробок, имеющих массу больше 1.1 кг равен {pr} процентов' )"
   ]
  },
  {
   "cell_type": "markdown",
   "metadata": {},
   "source": [
    "### Задача 2\n",
    "\n",
    "Коробка содержит 30 конфет. Известно, что масса каждой конфеты распределена равномерно в промежутке от 12 до 14 граммов. Используя центральную предельную теорему, найти вероятность, что масса всей коробки будет: а) меньше 390 граммов, б) больше 395 граммов, в) от 380 до 400 граммов.\n",
    "\n",
    "Массой самой коробки можно пренебречь.\n",
    "\n",
    "Подсказка. Для равномерного распределения в промежутке [a, b]:\n",
    "1. мат. ожидание равно (a + b) / 2,\n",
    "2. дисперсия равна (b - a)^2 / 12."
   ]
  },
  {
   "cell_type": "markdown",
   "metadata": {},
   "source": [
    "Непрерывная случайная величина X имеет равномерное распределение на отрезке [a,b], если на этом отрезке плотность распределения случайной величины постоянна, а вне его – равна нулю, т.е\n",
    "Выборку из равномерного распределения можно получить с помощью функции uniform из модуля numpy.random. Построим выборку из равномерного распределения с параметрами  𝑎=12 ,  𝑏=14."
   ]
  },
  {
   "cell_type": "code",
   "execution_count": 32,
   "metadata": {},
   "outputs": [
    {
     "name": "stdout",
     "output_type": "stream",
     "text": [
      "[13.11024506 12.280905   13.7521295  13.2295933  12.16202608 13.23226568\n",
      " 13.61766436 13.46047274 12.62364599 13.77889034 13.36394715 12.41829634\n",
      " 12.20826592 13.38509233 12.88249271 13.62540345 12.57091856 12.25991797\n",
      " 12.48380433 13.8065089  12.83978503 12.92401177 13.29234958 12.54682923\n",
      " 13.55727675 12.28128439 13.93887505 13.71749573 12.57018586 12.15512528]\n"
     ]
    }
   ],
   "source": [
    "a = 12\n",
    "b = 14\n",
    "n = 30\n",
    "samples = np.random.uniform(a, b, size=30)\n",
    "print(samples)"
   ]
  },
  {
   "cell_type": "code",
   "execution_count": 33,
   "metadata": {},
   "outputs": [
    {
     "name": "stdout",
     "output_type": "stream",
     "text": [
      "Мат. ожидание 13.0\n",
      "Дисперсия 0.3333333333333333\n"
     ]
    }
   ],
   "source": [
    "# m = M(X)- мат. ожидание для равномерного распределения\n",
    "# d = D(X) - дисперсия для равномерного распределения\n",
    "m = (a + b) / 2\n",
    "d = ((b - a) ** 2) / 12\n",
    "print(f'Мат. ожидание {m}')\n",
    "print(f'Дисперсия {d}')\n"
   ]
  },
  {
   "cell_type": "code",
   "execution_count": 34,
   "metadata": {},
   "outputs": [
    {
     "data": {
      "text/plain": [
       "13.002523479995139"
      ]
     },
     "execution_count": 34,
     "metadata": {},
     "output_type": "execute_result"
    }
   ],
   "source": [
    "#Посчитаем выборочное среднее от выборки:\n",
    "samples.mean()\n"
   ]
  },
  {
   "cell_type": "markdown",
   "metadata": {},
   "source": [
    "Центральная предельная теорема утверждает: чем больше  𝑛 , тем ближе распределение величины  𝑌  к нормальному распределению с параметрами\n",
    "\n",
    "𝑎=𝑛⋅𝑀(𝑋), 𝜎2=sqrt(𝑛⋅𝐷(𝑋))."
   ]
  },
  {
   "cell_type": "code",
   "execution_count": 35,
   "metadata": {},
   "outputs": [
    {
     "name": "stdout",
     "output_type": "stream",
     "text": [
      "390.0\n",
      "3.1622776601683795\n"
     ]
    }
   ],
   "source": [
    "#Найдем параметры:\n",
    "mu = n * m\n",
    "sigma = np.sqrt(n * d)\n",
    "print(mu)\n",
    "print(sigma)"
   ]
  },
  {
   "cell_type": "code",
   "execution_count": 36,
   "metadata": {},
   "outputs": [
    {
     "name": "stdout",
     "output_type": "stream",
     "text": [
      "Вероятность, что масса всей коробки будет: меньше 390 граммов = 0.5\n"
     ]
    }
   ],
   "source": [
    "p1 = stats.norm.cdf(390, loc = mu, scale = sigma)\n",
    "print(f'Вероятность, что масса всей коробки будет: меньше 390 граммов = {p1}')"
   ]
  },
  {
   "cell_type": "code",
   "execution_count": 37,
   "metadata": {},
   "outputs": [
    {
     "name": "stdout",
     "output_type": "stream",
     "text": [
      "Вероятность, что масса всей коробки будет: больше 395 граммов = 0.056923149003329065\n"
     ]
    }
   ],
   "source": [
    "p2 = 1 - stats.norm.cdf(395, loc = mu, scale = sigma)\n",
    "print(f'Вероятность, что масса всей коробки будет: больше 395 граммов = {p2}')"
   ]
  },
  {
   "cell_type": "code",
   "execution_count": 38,
   "metadata": {},
   "outputs": [
    {
     "name": "stdout",
     "output_type": "stream",
     "text": [
      "Вероятность, что масса всей коробки будет: от 380 до 400 граммов = 0.9984345977419975\n"
     ]
    }
   ],
   "source": [
    "p3 = stats.norm.cdf(400, loc = mu, scale = sigma) - stats.norm.cdf(380, loc = mu, scale = sigma)\n",
    "print(f'Вероятность, что масса всей коробки будет: от 380 до 400 граммов = {p3}')"
   ]
  },
  {
   "cell_type": "markdown",
   "metadata": {},
   "source": [
    "### Задача 3\n",
    "\n",
    "Продемонстрируйте действие центральной предельной теоремы на каком-нибудь распределении на ваш выбор (кроме нормального). Что для этого нужно сделать:\n",
    "1. Выберите несколько значений n (например, 2, 5, 10, 50).\n",
    "2. Для выбранного значения n сгенерируйте 1000 раз выборку размера n из выбранного вами распределения, посчитайте по этой выборке выборочное среднее.\n",
    "3. Изобразите гистограмму из полученных 1000 значений выборочного среднего с аргументом density=True.\n",
    "4. Поверх гистограммы нарисуйте функцию плотности нормального распределения с параметрами из ЦПТ (т.е. mu = M, sigma^2 = D / n, где M - мат. ожидание выбранного вами распределения, D - его дисперсия).\n",
    "\n",
    "При достаточно большом n гистограмма должна соответствовать построенной функции плотности."
   ]
  },
  {
   "cell_type": "markdown",
   "metadata": {},
   "source": [
    "Проверим утверждение центральной предельной теоремы на равномерном распределении  𝑋  с параметрами  𝑎=-5 ,  𝑏=5 . Для этого при различных  𝑛  сформируем  𝑛  выборок размера 1000 , а затем посчитаем от них поэлементно среднее. Таким образом, мы получим одну выборку размера  1000\n"
   ]
  },
  {
   "cell_type": "code",
   "execution_count": 39,
   "metadata": {},
   "outputs": [],
   "source": [
    "a = -5\n",
    "b = 5\n",
    "\n",
    "m = (a + b) / 2\n",
    "d = ((b - a) ** 2) / 12\n",
    "\n",
    "n_samples = 1000"
   ]
  },
  {
   "cell_type": "code",
   "execution_count": 40,
   "metadata": {},
   "outputs": [],
   "source": [
    "def get_mean_samples_uniform(n):\n",
    "    samples = np.random.uniform(a, b, size=(n, n_samples))\n",
    "    \n",
    "    return samples.mean(axis=0)"
   ]
  },
  {
   "cell_type": "code",
   "execution_count": 41,
   "metadata": {},
   "outputs": [
    {
     "data": {
      "text/plain": [
       "[<matplotlib.lines.Line2D at 0x1b81465a910>]"
      ]
     },
     "execution_count": 41,
     "metadata": {},
     "output_type": "execute_result"
    },
    {
     "data": {
      "image/png": "[encoded data removed]",
      "text/plain": [
       "<Figure size 432x288 with 1 Axes>"
      ]
     },
     "metadata": {
      "needs_background": "light"
     },
     "output_type": "display_data"
    }
   ],
   "source": [
    "def pdf_normal(loc, scale, x):\n",
    "    return np.exp(- ((x - loc) ** 2) / (2 * scale ** 2)) / (scale * np.sqrt(2 * np.pi))\n",
    "\n",
    "n = 10\n",
    "\n",
    "loc = m\n",
    "scale = np.sqrt(d / n)\n",
    "samples = get_mean_samples_uniform(n)\n",
    "\n",
    "ox = np.linspace(loc - 4 * scale, loc + 4 * scale, 1000)\n",
    "oy = np.array([pdf_normal(loc, scale, x) for x in ox])\n",
    "\n",
    "plt.hist(samples, density=True, bins=20)\n",
    "plt.plot(ox, oy)"
   ]
  },
  {
   "cell_type": "code",
   "execution_count": null,
   "metadata": {},
   "outputs": [],
   "source": []
  },
  {
   "cell_type": "code",
   "execution_count": null,
   "metadata": {},
   "outputs": [],
   "source": []
  }
 ],
 "metadata": {
  "kernelspec": {
   "display_name": "Python 3",
   "language": "python",
   "name": "python3"
  },
  "language_info": {
   "codemirror_mode": {
    "name": "ipython",
    "version": 3
   },
   "file_extension": ".py",
   "mimetype": "text/x-python",
   "name": "python",
   "nbconvert_exporter": "python",
   "pygments_lexer": "ipython3",
   "version": "3.8.3"
  }
 },
 "nbformat": 4,
 "nbformat_minor": 4
}
