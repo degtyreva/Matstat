{
 "cells": [
  {
   "cell_type": "markdown",
   "metadata": {},
   "source": [
    "# ДЗ 1.\n"
   ]
  },
  {
   "cell_type": "code",
   "execution_count": 6,
   "metadata": {},
   "outputs": [],
   "source": [
    "import numpy as np\n",
    "from math import factorial\n"
   ]
  },
  {
   "cell_type": "code",
   "execution_count": 7,
   "metadata": {},
   "outputs": [],
   "source": [
    "def combinations(n, k):\n",
    "    return int(factorial(n) / (factorial(k) * factorial(n - k)))"
   ]
  },
  {
   "cell_type": "code",
   "execution_count": 8,
   "metadata": {},
   "outputs": [],
   "source": [
    "def arrangements(n, k):\n",
    "    return int(factorial(n) / factorial(n - k))"
   ]
  },
  {
   "cell_type": "code",
   "execution_count": 9,
   "metadata": {},
   "outputs": [],
   "source": [
    "def permutations(n):\n",
    "    return int(factorial(n))"
   ]
  },
  {
   "cell_type": "markdown",
   "metadata": {},
   "source": [
    "## Задача 1\n",
    "\n",
    "Группа студентов изучает 10 различных дисциплин. Сколькими способами можно составить расписание на понедельник, если в этот день должно быть 4 разных занятия?"
   ]
  },
  {
   "cell_type": "code",
   "execution_count": 17,
   "metadata": {},
   "outputs": [
    {
     "name": "stdout",
     "output_type": "stream",
     "text": [
      "Вариантов расписания будет 5040\n"
     ]
    }
   ],
   "source": [
    "a = arrangements(10, 4)\n",
    "print(f'Вариантов расписания будет {a}')"
   ]
  },
  {
   "cell_type": "markdown",
   "metadata": {},
   "source": [
    "## Задача 2\n",
    "\n",
    "Из колоды в 52 карты вынимают случайным образом 4 карты. Найти число исходов, соответствующих тому, что был вытянут хотя бы один туз"
   ]
  },
  {
   "cell_type": "code",
   "execution_count": 14,
   "metadata": {},
   "outputs": [
    {
     "name": "stdout",
     "output_type": "stream",
     "text": [
      "Общее число исходов равно 270725\n"
     ]
    }
   ],
   "source": [
    "n = combinations(52, 4)\n",
    "print(f'Общее число исходов равно {n}')"
   ]
  },
  {
   "cell_type": "code",
   "execution_count": 15,
   "metadata": {},
   "outputs": [
    {
     "name": "stdout",
     "output_type": "stream",
     "text": [
      "Число исходов, соответствующих тому, что был вытянут хотя бы один туз равно 83300\n"
     ]
    }
   ],
   "source": [
    "m = combinations(4, 1)*combinations(51, 3)\n",
    "print(f'Число исходов, соответствующих тому, что был вытянут хотя бы один туз равно {m}')"
   ]
  },
  {
   "cell_type": "code",
   "execution_count": 16,
   "metadata": {},
   "outputs": [
    {
     "name": "stdout",
     "output_type": "stream",
     "text": [
      "Вероятность вытащить 4 карты с хотя бы одним тузом равна 0.3076923076923077\n"
     ]
    }
   ],
   "source": [
    "p = m/n\n",
    "print(f'Вероятность вытащить 4 карты с хотя бы одним тузом равна {p}')"
   ]
  },
  {
   "cell_type": "markdown",
   "metadata": {},
   "source": [
    "## Задача 3\n",
    "\n",
    "Семь человек рассаживаются наудачу на скамейке. Какова вероятность того, что два определённых человека будут сидеть рядом?"
   ]
  },
  {
   "cell_type": "code",
   "execution_count": 25,
   "metadata": {},
   "outputs": [
    {
     "name": "stdout",
     "output_type": "stream",
     "text": [
      "Вариантов рассадки 5040\n"
     ]
    }
   ],
   "source": [
    "n = permutations(7)\n",
    "print(f'Вариантов рассадки {n}')"
   ]
  },
  {
   "cell_type": "markdown",
   "metadata": {},
   "source": [
    "Всего пар соседей 6, каждая пара может сесть двумя способами, т е 6*2.\n",
    "Все остальные 5 человек могут сесть любыми способами, то есть 5! способами."
   ]
  },
  {
   "cell_type": "code",
   "execution_count": 27,
   "metadata": {},
   "outputs": [
    {
     "name": "stdout",
     "output_type": "stream",
     "text": [
      "Вероятность того, что два определённых человека будут сидеть рядом равна 0.2857142857142857\n"
     ]
    }
   ],
   "source": [
    "m = 6 * 2 * factorial(5)\n",
    "p = m / n\n",
    "print(f'Вероятность того, что два определённых человека будут сидеть рядом равна {p}')"
   ]
  },
  {
   "cell_type": "markdown",
   "metadata": {},
   "source": [
    "## Задача 4\n",
    "\n",
    "Из 60 вопросов, входящих в экзаменационные билеты, студент знает 50. Какова вероятность того, что среди трёх наугад выбранных вопросов студент знает: а) все? б) два?"
   ]
  },
  {
   "cell_type": "markdown",
   "metadata": {},
   "source": [
    "1 Вариант:"
   ]
  },
  {
   "cell_type": "code",
   "execution_count": 29,
   "metadata": {},
   "outputs": [
    {
     "name": "stdout",
     "output_type": "stream",
     "text": [
      "Общее число исходов равно 34220\n"
     ]
    }
   ],
   "source": [
    "n = combinations(60, 3)\n",
    "print(f'Общее число исходов равно {n}')"
   ]
  },
  {
   "cell_type": "code",
   "execution_count": 30,
   "metadata": {},
   "outputs": [
    {
     "name": "stdout",
     "output_type": "stream",
     "text": [
      "Число благоприятных исходов когда студент знает 3 вопроса равно 19600\n"
     ]
    }
   ],
   "source": [
    "m = combinations(50, 3)\n",
    "print(f'Число благоприятных исходов когда студент знает 3 вопроса равно {m}')"
   ]
  },
  {
   "cell_type": "code",
   "execution_count": 31,
   "metadata": {},
   "outputs": [
    {
     "name": "stdout",
     "output_type": "stream",
     "text": [
      "вероятность того, что среди наугад выбранных трёх вопросов студент знает три равна 0.5727644652250146\n"
     ]
    }
   ],
   "source": [
    "p = m / n\n",
    "print(f'вероятность того, что среди наугад выбранных трёх вопросов студент знает три равна {p}')"
   ]
  },
  {
   "cell_type": "markdown",
   "metadata": {},
   "source": [
    "2 Вариант:"
   ]
  },
  {
   "cell_type": "code",
   "execution_count": 32,
   "metadata": {},
   "outputs": [
    {
     "name": "stdout",
     "output_type": "stream",
     "text": [
      "Число исходов когда студент знает 2 вопроса равно 1225\n",
      "Число исходов когда студент не знает 1 вопрос равно 10\n"
     ]
    }
   ],
   "source": [
    "m1 = combinations(50, 2)\n",
    "m2 = combinations(10, 1)\n",
    "print(f'Число исходов когда студент знает 2 вопроса равно {m1}')\n",
    "print(f'Число исходов когда студент не знает 1 вопрос равно {m2}')\n"
   ]
  },
  {
   "cell_type": "code",
   "execution_count": 33,
   "metadata": {},
   "outputs": [
    {
     "name": "stdout",
     "output_type": "stream",
     "text": [
      "вероятность того, что среди наугад выбранных трёх вопросов студент знает два равна 0.35797779076563413\n"
     ]
    }
   ],
   "source": [
    "p = m1 * m2 / n\n",
    "print(f'вероятность того, что среди наугад выбранных трёх вопросов студент знает два равна {p}')"
   ]
  },
  {
   "cell_type": "markdown",
   "metadata": {},
   "source": [
    "## Задача 5\n",
    "\n",
    "Бросается игральная кость. Пусть событие A - появление чётного числа, событие B - появление числа больше трёх. Являются ли эти события независимыми?"
   ]
  },
  {
   "cell_type": "markdown",
   "metadata": {},
   "source": [
    "Да, события являются независимыми"
   ]
  },
  {
   "cell_type": "markdown",
   "metadata": {},
   "source": [
    "## Задача 6\n",
    "\n",
    "Допустим, имеется некоторая очень редкая болезнь (поражает 0.1 % населения). Вы приходите к врачу, вам делают тест на эту болезнь, и тест оказывается положительным. Врач говорит вам, что этот тест верно выявляет 99 % больных этой болезнью и всего лишь в 1 % случаев даёт ложный положительный ответ.\n",
    "\n",
    "Вопрос: какова вероятность, что вы действительно больны ей?\n",
    "\n",
    "Подсказка: вновь используйте формулу Байеса с раскрытием знаменателя с помощью формулы полной вероятности."
   ]
  },
  {
   "cell_type": "code",
   "execution_count": 35,
   "metadata": {},
   "outputs": [
    {
     "name": "stdout",
     "output_type": "stream",
     "text": [
      "m = 0.001 * 0.99 - человек действительно болен, n1 = 0.999 * 0.01 - человек здоров, но тест дал ложный результат, n2 = 0.001 * 0.99 - человек правда болен и тест это определил\n"
     ]
    }
   ],
   "source": [
    "m = 0.001 * 0.99\n",
    "n1 = 0.999 * 0.01\n",
    "n2 = 0.001 * 0.99\n",
    "print(f'm = 0.001 * 0.99 - человек действительно болен, n1 = 0.999 * 0.01 - человек здоров, но тест дал ложный результат, n2 = 0.001 * 0.99 - человек правда болен и тест это определил')"
   ]
  },
  {
   "cell_type": "code",
   "execution_count": 36,
   "metadata": {},
   "outputs": [
    {
     "name": "stdout",
     "output_type": "stream",
     "text": [
      "вероятность болезни равна 0.09016393442622951\n"
     ]
    }
   ],
   "source": [
    "p = m / (n1 + n2)\n",
    "print(f'вероятность болезни равна {p}')"
   ]
  },
  {
   "cell_type": "code",
   "execution_count": null,
   "metadata": {},
   "outputs": [],
   "source": []
  }
 ],
 "metadata": {
  "kernelspec": {
   "display_name": "Python 3",
   "language": "python",
   "name": "python3"
  },
  "language_info": {
   "codemirror_mode": {
    "name": "ipython",
    "version": 3
   },
   "file_extension": ".py",
   "mimetype": "text/x-python",
   "name": "python",
   "nbconvert_exporter": "python",
   "pygments_lexer": "ipython3",
   "version": "3.8.3"
  }
 },
 "nbformat": 4,
 "nbformat_minor": 4
}
